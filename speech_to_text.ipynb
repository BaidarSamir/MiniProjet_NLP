{
 "cells": [
  {
   "cell_type": "code",
   "execution_count": null,
   "id": "13d51d55",
   "metadata": {},
   "outputs": [],
   "source": [
    "# !pip install sounddevice "
   ]
  },
  {
   "cell_type": "code",
   "execution_count": 22,
   "id": "29830774",
   "metadata": {},
   "outputs": [
    {
     "name": "stdout",
     "output_type": "stream",
     "text": [
      "Recording...\n",
      "Done!\n"
     ]
    }
   ],
   "source": [
    "import sounddevice as sd\n",
    "from scipy.io.wavfile import write\n",
    "\n",
    "fs = 44100  # Sample rate\n",
    "seconds = 10  # Duration of recording\n",
    "\n",
    "print(\"Recording...\")\n",
    "recording = sd.rec(int(seconds * fs), samplerate=fs, channels=1)\n",
    "sd.wait()  # Wait until recording is finished\n",
    "write('output.wav', fs, recording)\n",
    "print(\"Done!\")\n"
   ]
  },
  {
   "cell_type": "code",
   "execution_count": null,
   "id": "44c00479",
   "metadata": {},
   "outputs": [],
   "source": [
    "# !pip install openai-whisper"
   ]
  },
  {
   "cell_type": "code",
   "execution_count": 9,
   "id": "b6fe5ff4",
   "metadata": {},
   "outputs": [
    {
     "name": "stdout",
     "output_type": "stream",
     "text": [
      "^C\n",
      "Requirement already satisfied: elevenlabs in c:\\users\\asus\\appdata\\local\\programs\\python\\python311\\lib\\site-packages (1.57.0)\n",
      "Requirement already satisfied: httpx>=0.21.2 in c:\\users\\asus\\appdata\\local\\programs\\python\\python311\\lib\\site-packages (from elevenlabs) (0.27.0)\n",
      "Requirement already satisfied: pydantic>=1.9.2 in c:\\users\\asus\\appdata\\local\\programs\\python\\python311\\lib\\site-packages (from elevenlabs) (1.10.22)\n",
      "Requirement already satisfied: pydantic-core<3.0.0,>=2.18.2 in c:\\users\\asus\\appdata\\local\\programs\\python\\python311\\lib\\site-packages (from elevenlabs) (2.33.1)\n",
      "Requirement already satisfied: requests>=2.20 in c:\\users\\asus\\appdata\\local\\programs\\python\\python311\\lib\\site-packages (from elevenlabs) (2.32.3)\n",
      "Requirement already satisfied: typing_extensions>=4.0.0 in c:\\users\\asus\\appdata\\local\\programs\\python\\python311\\lib\\site-packages (from elevenlabs) (4.12.2)\n",
      "Requirement already satisfied: websockets>=11.0 in c:\\users\\asus\\appdata\\local\\programs\\python\\python311\\lib\\site-packages (from elevenlabs) (15.0.1)\n",
      "Requirement already satisfied: anyio in c:\\users\\asus\\appdata\\local\\programs\\python\\python311\\lib\\site-packages (from httpx>=0.21.2->elevenlabs) (3.7.1)\n",
      "Requirement already satisfied: certifi in c:\\users\\asus\\appdata\\local\\programs\\python\\python311\\lib\\site-packages (from httpx>=0.21.2->elevenlabs) (2023.7.22)\n",
      "Requirement already satisfied: httpcore==1.* in c:\\users\\asus\\appdata\\local\\programs\\python\\python311\\lib\\site-packages (from httpx>=0.21.2->elevenlabs) (1.0.4)\n",
      "Requirement already satisfied: idna in c:\\users\\asus\\appdata\\local\\programs\\python\\python311\\lib\\site-packages (from httpx>=0.21.2->elevenlabs) (3.4)\n",
      "Requirement already satisfied: sniffio in c:\\users\\asus\\appdata\\local\\programs\\python\\python311\\lib\\site-packages (from httpx>=0.21.2->elevenlabs) (1.3.1)\n",
      "Requirement already satisfied: h11<0.15,>=0.13 in c:\\users\\asus\\appdata\\local\\programs\\python\\python311\\lib\\site-packages (from httpcore==1.*->httpx>=0.21.2->elevenlabs) (0.14.0)\n",
      "Requirement already satisfied: charset-normalizer<4,>=2 in c:\\users\\asus\\appdata\\local\\programs\\python\\python311\\lib\\site-packages (from requests>=2.20->elevenlabs) (3.3.1)\n",
      "Requirement already satisfied: urllib3<3,>=1.21.1 in c:\\users\\asus\\appdata\\local\\programs\\python\\python311\\lib\\site-packages (from requests>=2.20->elevenlabs) (1.26.20)\n"
     ]
    },
    {
     "name": "stderr",
     "output_type": "stream",
     "text": [
      "\n",
      "[notice] A new release of pip is available: 23.2.1 -> 25.1\n",
      "[notice] To update, run: python.exe -m pip install --upgrade pip\n"
     ]
    }
   ],
   "source": [
    "! pip uninstall elevenlabs\n",
    "! pip install elevenlabs\n"
   ]
  },
  {
   "cell_type": "code",
   "execution_count": 12,
   "id": "8a5932da",
   "metadata": {},
   "outputs": [
    {
     "name": "stdout",
     "output_type": "stream",
     "text": [
      "Requirement already satisfied: pydantic in c:\\users\\asus\\appdata\\local\\programs\\python\\python311\\lib\\site-packages (2.11.4)\n",
      "Requirement already satisfied: annotated-types>=0.6.0 in c:\\users\\asus\\appdata\\local\\programs\\python\\python311\\lib\\site-packages (from pydantic) (0.6.0)\n",
      "Requirement already satisfied: pydantic-core==2.33.2 in c:\\users\\asus\\appdata\\local\\programs\\python\\python311\\lib\\site-packages (from pydantic) (2.33.2)\n",
      "Requirement already satisfied: typing-extensions>=4.12.2 in c:\\users\\asus\\appdata\\local\\programs\\python\\python311\\lib\\site-packages (from pydantic) (4.12.2)\n",
      "Requirement already satisfied: typing-inspection>=0.4.0 in c:\\users\\asus\\appdata\\local\\programs\\python\\python311\\lib\\site-packages (from pydantic) (0.4.0)\n"
     ]
    },
    {
     "name": "stderr",
     "output_type": "stream",
     "text": [
      "\n",
      "[notice] A new release of pip is available: 23.2.1 -> 25.1\n",
      "[notice] To update, run: python.exe -m pip install --upgrade pip\n"
     ]
    }
   ],
   "source": [
    "! pip install --upgrade pydantic"
   ]
  },
  {
   "cell_type": "code",
   "execution_count": 23,
   "id": "ed0375b8",
   "metadata": {},
   "outputs": [
    {
     "name": "stdout",
     "output_type": "stream",
     "text": [
      "language_code='ara' language_probability=1.0 text='الضهر يضرني ويوجعني. لا.' words=[SpeechToTextWordResponseModel(text='الضهر', start=1.24, end=1.579, type='word', speaker_id='speaker_0', characters=None), SpeechToTextWordResponseModel(text=' ', start=1.579, end=1.599, type='spacing', speaker_id='speaker_0', characters=None), SpeechToTextWordResponseModel(text='يضرني', start=1.599, end=2.36, type='word', speaker_id='speaker_0', characters=None), SpeechToTextWordResponseModel(text=' ', start=2.36, end=2.379, type='spacing', speaker_id='speaker_0', characters=None), SpeechToTextWordResponseModel(text='ويوجعني.', start=2.379, end=3.139, type='word', speaker_id='speaker_0', characters=None), SpeechToTextWordResponseModel(text=' ', start=3.139, end=8.92, type='spacing', speaker_id='speaker_0', characters=None), SpeechToTextWordResponseModel(text='لا.', start=8.92, end=9.459, type='word', speaker_id='speaker_0', characters=None)] additional_formats=None\n"
     ]
    }
   ],
   "source": [
    "import os\n",
    "from dotenv import load_dotenv\n",
    "from elevenlabs.client import ElevenLabs\n",
    "\n",
    "# Load environment variables\n",
    "load_dotenv()\n",
    "\n",
    "# Initialize the ElevenLabs client\n",
    "client = ElevenLabs(api_key=os.getenv(\"ELEVENLABS_API_KEY\"))\n",
    "\n",
    "# Path to your audio file\n",
    "audio_file_path = \"output.wav\"\n",
    "\n",
    "# Open the audio file in binary mode\n",
    "with open(audio_file_path, \"rb\") as audio_file:\n",
    "    # Perform speech-to-text transcription\n",
    "    transcription = client.speech_to_text.convert(\n",
    "        file=audio_file,\n",
    "        model_id=\"scribe_v1\",\n",
    "        language_code=\"ar\",  # Replace with appropriate language code\n",
    "        diarize=True,\n",
    "        timestamps_granularity=\"word\",\n",
    "        tag_audio_events=True\n",
    "    )\n",
    "\n",
    "print((transcription))\n"
   ]
  },
  {
   "cell_type": "code",
   "execution_count": 24,
   "id": "b107a506",
   "metadata": {},
   "outputs": [
    {
     "name": "stdout",
     "output_type": "stream",
     "text": [
      "الضهر يضرني ويوجعني. لا.\n"
     ]
    }
   ],
   "source": [
    "# Print the transcription result\n",
    "# Extract only the words\n",
    "# words_list = [word.text for word in transcription.words if word.type == 'word']\n",
    "\n",
    "\n",
    "syntese = transcription.text\n",
    "print(syntese)"
   ]
  },
  {
   "cell_type": "code",
   "execution_count": null,
   "id": "b83073df",
   "metadata": {},
   "outputs": [
    {
     "name": "stdout",
     "output_type": "stream",
     "text": [
      "Collecting sentencepiece\n",
      "  Obtaining dependency information for sentencepiece from https://files.pythonhosted.org/packages/a2/f6/587c62fd21fc988555b85351f50bbde43a51524caafd63bc69240ded14fd/sentencepiece-0.2.0-cp311-cp311-win_amd64.whl.metadata\n",
      "  Downloading sentencepiece-0.2.0-cp311-cp311-win_amd64.whl.metadata (8.3 kB)\n",
      "Downloading sentencepiece-0.2.0-cp311-cp311-win_amd64.whl (991 kB)\n",
      "   ---------------------------------------- 0.0/991.5 kB ? eta -:--:--\n",
      "   ---------------------------------------- 10.2/991.5 kB ? eta -:--:--\n",
      "   - -------------------------------------- 30.7/991.5 kB 1.3 MB/s eta 0:00:01\n",
      "   -- ------------------------------------ 61.4/991.5 kB 465.5 kB/s eta 0:00:02\n",
      "   --- ----------------------------------- 92.2/991.5 kB 581.0 kB/s eta 0:00:02\n",
      "   ---- --------------------------------- 122.9/991.5 kB 552.2 kB/s eta 0:00:02\n",
      "   ----- -------------------------------- 143.4/991.5 kB 532.5 kB/s eta 0:00:02\n",
      "   ----- -------------------------------- 153.6/991.5 kB 538.9 kB/s eta 0:00:02\n",
      "   ------- ------------------------------ 204.8/991.5 kB 591.4 kB/s eta 0:00:02\n",
      "   --------- ---------------------------- 235.5/991.5 kB 625.8 kB/s eta 0:00:02\n",
      "   ---------- --------------------------- 276.5/991.5 kB 630.9 kB/s eta 0:00:02\n",
      "   ------------ ------------------------- 317.4/991.5 kB 633.4 kB/s eta 0:00:02\n",
      "   ------------- ------------------------ 358.4/991.5 kB 674.7 kB/s eta 0:00:01\n",
      "   -------------- ----------------------- 368.6/991.5 kB 636.6 kB/s eta 0:00:01\n",
      "   -------------- ----------------------- 389.1/991.5 kB 621.1 kB/s eta 0:00:01\n",
      "   ---------------- --------------------- 419.8/991.5 kB 623.4 kB/s eta 0:00:01\n",
      "   ---------------- --------------------- 440.3/991.5 kB 640.0 kB/s eta 0:00:01\n",
      "   ----------------- -------------------- 450.6/991.5 kB 612.4 kB/s eta 0:00:01\n",
      "   ------------------ ------------------- 481.3/991.5 kB 602.4 kB/s eta 0:00:01\n",
      "   ------------------- ------------------ 501.8/991.5 kB 604.6 kB/s eta 0:00:01\n",
      "   --------------------- ---------------- 563.2/991.5 kB 632.0 kB/s eta 0:00:01\n",
      "   ----------------------- -------------- 614.4/991.5 kB 644.1 kB/s eta 0:00:01\n",
      "   ------------------------- ------------ 665.6/991.5 kB 676.3 kB/s eta 0:00:01\n",
      "   -------------------------- ----------- 686.1/991.5 kB 665.2 kB/s eta 0:00:01\n",
      "   -------------------------- ----------- 686.1/991.5 kB 665.2 kB/s eta 0:00:01\n",
      "   --------------------------- ---------- 706.6/991.5 kB 627.3 kB/s eta 0:00:01\n",
      "   ---------------------------- --------- 747.5/991.5 kB 629.1 kB/s eta 0:00:01\n",
      "   ----------------------------- -------- 768.0/991.5 kB 637.8 kB/s eta 0:00:01\n",
      "   ------------------------------ ------- 788.5/991.5 kB 638.4 kB/s eta 0:00:01\n",
      "   ------------------------------ ------- 798.7/991.5 kB 615.0 kB/s eta 0:00:01\n",
      "   -------------------------------- ----- 849.9/991.5 kB 617.4 kB/s eta 0:00:01\n",
      "   --------------------------------- ---- 880.6/991.5 kB 625.7 kB/s eta 0:00:01\n",
      "   ------------------------------------ - 942.1/991.5 kB 648.0 kB/s eta 0:00:01\n",
      "   ------------------------------------ - 962.6/991.5 kB 641.3 kB/s eta 0:00:01\n",
      "   -------------------------------------- 991.5/991.5 kB 640.5 kB/s eta 0:00:00\n",
      "Installing collected packages: sentencepiece\n",
      "Successfully installed sentencepiece-0.2.0\n"
     ]
    },
    {
     "name": "stderr",
     "output_type": "stream",
     "text": [
      "\n",
      "[notice] A new release of pip is available: 23.2.1 -> 25.0.1\n",
      "[notice] To update, run: python.exe -m pip install --upgrade pip\n"
     ]
    }
   ],
   "source": [
    "# !pip install sentencepiece "
   ]
  },
  {
   "cell_type": "code",
   "execution_count": 25,
   "id": "30efa99d",
   "metadata": {},
   "outputs": [
    {
     "name": "stdout",
     "output_type": "stream",
     "text": [
      "My back hurts and it's bothering me. No.\n"
     ]
    }
   ],
   "source": [
    "from openai import OpenAI\n",
    "\n",
    "\n",
    "client = OpenAI(\n",
    "  base_url=\"https://openrouter.ai/api/v1\",\n",
    "  api_key=\"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\",\n",
    ")\n",
    "\n",
    "completion = client.chat.completions.create(\n",
    "  extra_headers={\n",
    "    \"HTTP-Referer\": \"<YOUR_SITE_URL>\", # Optional. Site URL for rankings on openrouter.ai.\n",
    "    \"X-Title\": \"<YOUR_SITE_NAME>\", # Optional. Site title for rankings on openrouter.ai.\n",
    "  },\n",
    "  extra_body={},\n",
    "  model=\"openai/GPT-3.5-turbo\",\n",
    "  messages=[\n",
    "    {\n",
    "      \"role\": \"user\",\n",
    "      \"content\": [\n",
    "        {\n",
    "          \"type\": \"text\",\n",
    "          \"text\": \"Translate the following Algeria dialeg text to English: \\n\" + syntese\n",
    "        }\n",
    "      ]\n",
    "    }\n",
    "  ]\n",
    ")\n",
    "if completion.choices:\n",
    "    Text = completion.choices[0].message.content\n",
    "    print(Text)\n",
    "elif completion.error:\n",
    "    print(f\"Error: {completion.error['message']}\")\n",
    "else:\n",
    "    print(\"No valid response received from the API.\")"
   ]
  },
  {
   "cell_type": "code",
   "execution_count": 26,
   "id": "43ab2ae0",
   "metadata": {},
   "outputs": [
    {
     "name": "stdout",
     "output_type": "stream",
     "text": [
      "Stored result: [\"My back hurts and it's bothering me.\", 'Symptoms of back pain may include:', '- Dull or sharp pain in the back', '- Stiffness or limited range of motion', '- Muscle spasms', '- Shooting or radiating pain down the legs', '- Numbness or tingling in the legs', '- Difficulty standing up straight', '- Pain that worsens with physical activity or bending', '- Pain that improves with rest', 'It is important to consult a healthcare professional for proper diagnosis and treatment of back pain.']\n"
     ]
    }
   ],
   "source": [
    "from openai import OpenAI\n",
    "import re\n",
    "\n",
    "# Initialize an empty array to store results\n",
    "results_array = []\n",
    "\n",
    "client = OpenAI(\n",
    "    base_url=\"https://openrouter.ai/api/v1\",\n",

    ")\n",
    "\n",
    "completion = client.chat.completions.create(\n",
    "    extra_body={},\n",
    "    model=\"openai/GPT-3.5-turbo\",\n",
    "    messages=[\n",
    "        {\n",
    "            \"role\": \"user\",\n",
    "            \"content\": [\n",
    "                {\n",
    "                    \"type\": \"text\",\n",
    "                    \"text\": f\"give me what the symptoms of the following + {Text}  and remove the unceseccary like haha, mhmh:\" \n",
    "                }\n",
    "            ]\n",
    "        }\n",
    "    ]\n",
    ")\n",
    "\n",
    "\n",
    "if completion.choices:\n",
    "    Text = completion.choices[0].message.content\n",
    "    # Split the text into lines and process each line\n",
    "    lines = Text.split('\\n')\n",
    "    # Extract symptoms by removing numbers and periods, and cleaning each line\n",
    "    symptoms = [re.sub(r'^\\d+\\.\\s*', '', line).strip() for line in lines if line.strip()]\n",
    "    # Extend the array with individual symptoms\n",
    "    results_array.extend(symptoms)\n",
    "    print(\"Stored result:\", results_array)\n",
    "elif completion.error:\n",
    "    print(f\"Error: {completion.error['message']}\")\n",
    "else:\n",
    "    print(\"No valid response received from the API.\")"
   ]
  },
  {
   "cell_type": "code",
   "execution_count": null,
   "id": "bc15d48a",
   "metadata": {},
   "outputs": [
    {
     "name": "stdout",
     "output_type": "stream",
     "text": [
      "1. Headache\n",
      "2. Shoulder Pain\n",
      "\n",
      "These symptoms can be categorized as:\n",
      "1. Headache - Symptom number 1\n",
      "2. Shoulder Pain - Symptom number 2\n"
     ]
    }
   ],
   "source": [
    "from openai import OpenAI\n",
    "\n",
    "client = OpenAI(\n",
    "  base_url=\"https://openrouter.ai/api/v1\",\n",
    "  api_key=\"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\",\n",
    ")\n",
    "\n",
    "completion = client.chat.completions.create(\n",
    "  extra_body={},\n",
    "  model=\"openai/GPT-3.5-turbo\",\n",
    "  messages=[\n",
    "    {\n",
    "      \"role\": \"user\",\n",
    "      \"content\": [\n",
    "        {\n",
    "          \"type\": \"text\",\n",
    "          \"text\": \"give me what the symptoms of the following text as numbers: I feel like my head is hurting me and my shoulder is hurting me.\"\n",
    "        }\n",
    "      ]\n",
    "    }\n",
    "  ]\n",
    ")\n",
    "if completion.choices:\n",
    "    Text = completion.choices[0].message.content\n",
    "    print(Text)\n",
    "elif completion.error:\n",
    "    print(f\"Error: {completion.error['message']}\")\n",
    "else:\n",
    "    print(\"No valid response received from the API.\")"
   ]
  }
 ],
 "metadata": {
  "kernelspec": {
   "display_name": "Python 3",
   "language": "python",
   "name": "python3"
  },
  "language_info": {
   "codemirror_mode": {
    "name": "ipython",
    "version": 3
   },
   "file_extension": ".py",
   "mimetype": "text/x-python",
   "name": "python",
   "nbconvert_exporter": "python",
   "pygments_lexer": "ipython3",
   "version": "3.11.4"
  }
 },
 "nbformat": 4,
 "nbformat_minor": 5
}
